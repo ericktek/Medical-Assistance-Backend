{
 "cells": [
  {
   "cell_type": "code",
   "execution_count": 128,
   "metadata": {},
   "outputs": [],
   "source": [
    "import pandas as pd\n",
    "import numpy as np"
   ]
  },
  {
   "cell_type": "code",
   "execution_count": 129,
   "metadata": {},
   "outputs": [],
   "source": [
    "data = pd.read_csv('Extracted-data.csv')"
   ]
  },
  {
   "cell_type": "code",
   "execution_count": 130,
   "metadata": {},
   "outputs": [
    {
     "data": {
      "text/plain": [
       "False"
      ]
     },
     "execution_count": 130,
     "metadata": {},
     "output_type": "execute_result"
    }
   ],
   "source": [
    "data.duplicated().any()"
   ]
  },
  {
   "cell_type": "code",
   "execution_count": 131,
   "metadata": {},
   "outputs": [],
   "source": [
    "data.drop_duplicates(inplace=True)"
   ]
  },
  {
   "cell_type": "code",
   "execution_count": 132,
   "metadata": {},
   "outputs": [
    {
     "data": {
      "text/html": [
       "<div>\n",
       "<style scoped>\n",
       "    .dataframe tbody tr th:only-of-type {\n",
       "        vertical-align: middle;\n",
       "    }\n",
       "\n",
       "    .dataframe tbody tr th {\n",
       "        vertical-align: top;\n",
       "    }\n",
       "\n",
       "    .dataframe thead th {\n",
       "        text-align: right;\n",
       "    }\n",
       "</style>\n",
       "<table border=\"1\" class=\"dataframe\">\n",
       "  <thead>\n",
       "    <tr style=\"text-align: right;\">\n",
       "      <th></th>\n",
       "      <th>disease</th>\n",
       "      <th>categories</th>\n",
       "      <th>Clinical presentation</th>\n",
       "      <th>Investigation</th>\n",
       "      <th>Non-Pharmacological Treatment</th>\n",
       "      <th>Pharmacological Treatment</th>\n",
       "    </tr>\n",
       "  </thead>\n",
       "  <tbody>\n",
       "    <tr>\n",
       "      <th>0</th>\n",
       "      <td>Anaemia</td>\n",
       "      <td>Iron Deficiency Anaemia</td>\n",
       "      <td>fatigue, palpitation, dizziness, glossitis, ko...</td>\n",
       "      <td>, Full blood picture (FBP) , Peripheral smea...</td>\n",
       "      <td>To prevent iron deficiency; Eat a variety of i...</td>\n",
       "      <td>Treatment  Treat the undelying cause of iron d...</td>\n",
       "    </tr>\n",
       "    <tr>\n",
       "      <th>1</th>\n",
       "      <td>Anaemia</td>\n",
       "      <td>Megaloblastic Anemia</td>\n",
       "      <td>Pallor, depression, hair loss, pins and needle...</td>\n",
       "      <td>FBP, peripheral smear, reticulocyte count,  , ...</td>\n",
       "      <td>No</td>\n",
       "      <td>Vitamin (B12 deficiency anaemia) and other mac...</td>\n",
       "    </tr>\n",
       "    <tr>\n",
       "      <th>2</th>\n",
       "      <td>Anaemia</td>\n",
       "      <td>Aplastic Anaemia (Bone Marrow Failure) Aplastic</td>\n",
       "      <td>easy bruising/bleeding, recurrent infection;  ...</td>\n",
       "      <td>FBP, peripheral smear, reticulocyte count,  , ...</td>\n",
       "      <td>NaN</td>\n",
       "      <td>Treatment Supportive treatment B blood transfu...</td>\n",
       "    </tr>\n",
       "    <tr>\n",
       "      <th>3</th>\n",
       "      <td>Anaemia</td>\n",
       "      <td>Haemolytic Anaemia</td>\n",
       "      <td>pallor, jaundice, splenomegaly, Anaemia, Retic...</td>\n",
       "      <td></td>\n",
       "      <td></td>\n",
       "      <td>\"munosuppressants A: prednisolone (PO) 1–1.5m...</td>\n",
       "    </tr>\n",
       "    <tr>\n",
       "      <th>4</th>\n",
       "      <td>factor VIII.</td>\n",
       "      <td>NaN</td>\n",
       "      <td>NaN</td>\n",
       "      <td>NaN</td>\n",
       "      <td>NaN</td>\n",
       "      <td>NaN</td>\n",
       "    </tr>\n",
       "    <tr>\n",
       "      <th>...</th>\n",
       "      <td>...</td>\n",
       "      <td>...</td>\n",
       "      <td>...</td>\n",
       "      <td>...</td>\n",
       "      <td>...</td>\n",
       "      <td>...</td>\n",
       "    </tr>\n",
       "    <tr>\n",
       "      <th>1393</th>\n",
       "      <td>\\nCommon</td>\n",
       "      <td>Iron Poisoning Symptoms</td>\n",
       "      <td>\\n\\n, Inorganic Mercury\\no Ash-gray mucous mem...</td>\n",
       "      <td>Blood gases , pH and bicarbonates  , Serum ele...</td>\n",
       "      <td>NaN</td>\n",
       "      <td>Treatment C Fluid resuscitation  If hypokalemi...</td>\n",
       "    </tr>\n",
       "    <tr>\n",
       "      <th>1394</th>\n",
       "      <td>(Daboia</td>\n",
       "      <td>Iron Poisoning Symptoms</td>\n",
       "      <td>\\n\\n, Inorganic Mercury\\no Ash-gray mucous mem...</td>\n",
       "      <td>Blood gases , pH and bicarbonates  , Serum ele...</td>\n",
       "      <td>NaN</td>\n",
       "      <td>Treatment C Fluid resuscitation  If hypokalemi...</td>\n",
       "    </tr>\n",
       "    <tr>\n",
       "      <th>1395</th>\n",
       "      <td>\\nSaw-</td>\n",
       "      <td>Iron Poisoning Symptoms</td>\n",
       "      <td>\\n\\n, Inorganic Mercury\\no Ash-gray mucous mem...</td>\n",
       "      <td>Blood gases , pH and bicarbonates  , Serum ele...</td>\n",
       "      <td>NaN</td>\n",
       "      <td>Treatment C Fluid resuscitation  If hypokalemi...</td>\n",
       "    </tr>\n",
       "    <tr>\n",
       "      <th>1396</th>\n",
       "      <td>Normal</td>\n",
       "      <td>Iron Poisoning Symptoms</td>\n",
       "      <td>\\n\\n, Inorganic Mercury\\no Ash-gray mucous mem...</td>\n",
       "      <td>Blood gases , pH and bicarbonates  , Serum ele...</td>\n",
       "      <td>NaN</td>\n",
       "      <td>Treatment C Fluid resuscitation  If hypokalemi...</td>\n",
       "    </tr>\n",
       "    <tr>\n",
       "      <th>1397</th>\n",
       "      <td>Chlorpheniramine</td>\n",
       "      <td>Iron Poisoning Symptoms</td>\n",
       "      <td>\\n\\n, Inorganic Mercury\\no Ash-gray mucous mem...</td>\n",
       "      <td>Blood gases , pH and bicarbonates  , Serum ele...</td>\n",
       "      <td>NaN</td>\n",
       "      <td>Treatment C Fluid resuscitation  If hypokalemi...</td>\n",
       "    </tr>\n",
       "  </tbody>\n",
       "</table>\n",
       "<p>1398 rows × 6 columns</p>\n",
       "</div>"
      ],
      "text/plain": [
       "                disease                                        categories  \\\n",
       "0              Anaemia                            Iron Deficiency Anaemia   \n",
       "1              Anaemia                               Megaloblastic Anemia   \n",
       "2              Anaemia   Aplastic Anaemia (Bone Marrow Failure) Aplastic    \n",
       "3               Anaemia                                Haemolytic Anaemia   \n",
       "4        factor VIII.                                                 NaN   \n",
       "...                 ...                                               ...   \n",
       "1393          \\nCommon                           Iron Poisoning Symptoms    \n",
       "1394           (Daboia                           Iron Poisoning Symptoms    \n",
       "1395            \\nSaw-                           Iron Poisoning Symptoms    \n",
       "1396            Normal                           Iron Poisoning Symptoms    \n",
       "1397  Chlorpheniramine                           Iron Poisoning Symptoms    \n",
       "\n",
       "                                  Clinical presentation  \\\n",
       "0     fatigue, palpitation, dizziness, glossitis, ko...   \n",
       "1     Pallor, depression, hair loss, pins and needle...   \n",
       "2     easy bruising/bleeding, recurrent infection;  ...   \n",
       "3     pallor, jaundice, splenomegaly, Anaemia, Retic...   \n",
       "4                                                   NaN   \n",
       "...                                                 ...   \n",
       "1393  \\n\\n, Inorganic Mercury\\no Ash-gray mucous mem...   \n",
       "1394  \\n\\n, Inorganic Mercury\\no Ash-gray mucous mem...   \n",
       "1395  \\n\\n, Inorganic Mercury\\no Ash-gray mucous mem...   \n",
       "1396  \\n\\n, Inorganic Mercury\\no Ash-gray mucous mem...   \n",
       "1397  \\n\\n, Inorganic Mercury\\no Ash-gray mucous mem...   \n",
       "\n",
       "                                          Investigation  \\\n",
       "0       , Full blood picture (FBP) , Peripheral smea...   \n",
       "1     FBP, peripheral smear, reticulocyte count,  , ...   \n",
       "2     FBP, peripheral smear, reticulocyte count,  , ...   \n",
       "3                                                         \n",
       "4                                                   NaN   \n",
       "...                                                 ...   \n",
       "1393  Blood gases , pH and bicarbonates  , Serum ele...   \n",
       "1394  Blood gases , pH and bicarbonates  , Serum ele...   \n",
       "1395  Blood gases , pH and bicarbonates  , Serum ele...   \n",
       "1396  Blood gases , pH and bicarbonates  , Serum ele...   \n",
       "1397  Blood gases , pH and bicarbonates  , Serum ele...   \n",
       "\n",
       "                          Non-Pharmacological Treatment  \\\n",
       "0     To prevent iron deficiency; Eat a variety of i...   \n",
       "1                                                    No   \n",
       "2                                                   NaN   \n",
       "3                                                         \n",
       "4                                                   NaN   \n",
       "...                                                 ...   \n",
       "1393                                                NaN   \n",
       "1394                                                NaN   \n",
       "1395                                                NaN   \n",
       "1396                                                NaN   \n",
       "1397                                                NaN   \n",
       "\n",
       "                              Pharmacological Treatment  \n",
       "0     Treatment  Treat the undelying cause of iron d...  \n",
       "1     Vitamin (B12 deficiency anaemia) and other mac...  \n",
       "2     Treatment Supportive treatment B blood transfu...  \n",
       "3      \"munosuppressants A: prednisolone (PO) 1–1.5m...  \n",
       "4                                                   NaN  \n",
       "...                                                 ...  \n",
       "1393  Treatment C Fluid resuscitation  If hypokalemi...  \n",
       "1394  Treatment C Fluid resuscitation  If hypokalemi...  \n",
       "1395  Treatment C Fluid resuscitation  If hypokalemi...  \n",
       "1396  Treatment C Fluid resuscitation  If hypokalemi...  \n",
       "1397  Treatment C Fluid resuscitation  If hypokalemi...  \n",
       "\n",
       "[1398 rows x 6 columns]"
      ]
     },
     "execution_count": 132,
     "metadata": {},
     "output_type": "execute_result"
    }
   ],
   "source": [
    "data"
   ]
  },
  {
   "cell_type": "code",
   "execution_count": 133,
   "metadata": {},
   "outputs": [],
   "source": [
    "data.drop_duplicates(inplace=True)"
   ]
  },
  {
   "cell_type": "code",
   "execution_count": 134,
   "metadata": {},
   "outputs": [
    {
     "data": {
      "text/plain": [
       "False"
      ]
     },
     "execution_count": 134,
     "metadata": {},
     "output_type": "execute_result"
    }
   ],
   "source": [
    "data.duplicated().any()"
   ]
  },
  {
   "cell_type": "code",
   "execution_count": null,
   "metadata": {},
   "outputs": [],
   "source": []
  },
  {
   "cell_type": "code",
   "execution_count": 135,
   "metadata": {},
   "outputs": [
    {
     "data": {
      "text/html": [
       "<div>\n",
       "<style scoped>\n",
       "    .dataframe tbody tr th:only-of-type {\n",
       "        vertical-align: middle;\n",
       "    }\n",
       "\n",
       "    .dataframe tbody tr th {\n",
       "        vertical-align: top;\n",
       "    }\n",
       "\n",
       "    .dataframe thead th {\n",
       "        text-align: right;\n",
       "    }\n",
       "</style>\n",
       "<table border=\"1\" class=\"dataframe\">\n",
       "  <thead>\n",
       "    <tr style=\"text-align: right;\">\n",
       "      <th></th>\n",
       "      <th>disease</th>\n",
       "      <th>categories</th>\n",
       "      <th>Clinical presentation</th>\n",
       "      <th>Investigation</th>\n",
       "      <th>Non-Pharmacological Treatment</th>\n",
       "      <th>Pharmacological Treatment</th>\n",
       "    </tr>\n",
       "  </thead>\n",
       "  <tbody>\n",
       "    <tr>\n",
       "      <th>0</th>\n",
       "      <td>Anaemia</td>\n",
       "      <td>Iron Deficiency Anaemia</td>\n",
       "      <td>fatigue, palpitation, dizziness, glossitis, ko...</td>\n",
       "      <td>, Full blood picture (FBP) , Peripheral smea...</td>\n",
       "      <td>To prevent iron deficiency; Eat a variety of i...</td>\n",
       "      <td>Treatment  Treat the undelying cause of iron d...</td>\n",
       "    </tr>\n",
       "    <tr>\n",
       "      <th>1</th>\n",
       "      <td>Anaemia</td>\n",
       "      <td>Megaloblastic Anemia</td>\n",
       "      <td>Pallor, depression, hair loss, pins and needle...</td>\n",
       "      <td>FBP, peripheral smear, reticulocyte count,  , ...</td>\n",
       "      <td>No</td>\n",
       "      <td>Vitamin (B12 deficiency anaemia) and other mac...</td>\n",
       "    </tr>\n",
       "    <tr>\n",
       "      <th>2</th>\n",
       "      <td>Anaemia</td>\n",
       "      <td>Aplastic Anaemia (Bone Marrow Failure) Aplastic</td>\n",
       "      <td>easy bruising/bleeding, recurrent infection;  ...</td>\n",
       "      <td>FBP, peripheral smear, reticulocyte count,  , ...</td>\n",
       "      <td>NaN</td>\n",
       "      <td>Treatment Supportive treatment B blood transfu...</td>\n",
       "    </tr>\n",
       "    <tr>\n",
       "      <th>3</th>\n",
       "      <td>Anaemia</td>\n",
       "      <td>Haemolytic Anaemia</td>\n",
       "      <td>pallor, jaundice, splenomegaly, Anaemia, Retic...</td>\n",
       "      <td></td>\n",
       "      <td></td>\n",
       "      <td>\"munosuppressants A: prednisolone (PO) 1–1.5m...</td>\n",
       "    </tr>\n",
       "    <tr>\n",
       "      <th>4</th>\n",
       "      <td>factor VIII.</td>\n",
       "      <td>NaN</td>\n",
       "      <td>NaN</td>\n",
       "      <td>NaN</td>\n",
       "      <td>NaN</td>\n",
       "      <td>NaN</td>\n",
       "    </tr>\n",
       "  </tbody>\n",
       "</table>\n",
       "</div>"
      ],
      "text/plain": [
       "          disease                                        categories  \\\n",
       "0        Anaemia                            Iron Deficiency Anaemia   \n",
       "1        Anaemia                               Megaloblastic Anemia   \n",
       "2        Anaemia   Aplastic Anaemia (Bone Marrow Failure) Aplastic    \n",
       "3         Anaemia                                Haemolytic Anaemia   \n",
       "4  factor VIII.                                                 NaN   \n",
       "\n",
       "                               Clinical presentation  \\\n",
       "0  fatigue, palpitation, dizziness, glossitis, ko...   \n",
       "1  Pallor, depression, hair loss, pins and needle...   \n",
       "2  easy bruising/bleeding, recurrent infection;  ...   \n",
       "3  pallor, jaundice, splenomegaly, Anaemia, Retic...   \n",
       "4                                                NaN   \n",
       "\n",
       "                                       Investigation  \\\n",
       "0    , Full blood picture (FBP) , Peripheral smea...   \n",
       "1  FBP, peripheral smear, reticulocyte count,  , ...   \n",
       "2  FBP, peripheral smear, reticulocyte count,  , ...   \n",
       "3                                                      \n",
       "4                                                NaN   \n",
       "\n",
       "                       Non-Pharmacological Treatment  \\\n",
       "0  To prevent iron deficiency; Eat a variety of i...   \n",
       "1                                                 No   \n",
       "2                                                NaN   \n",
       "3                                                      \n",
       "4                                                NaN   \n",
       "\n",
       "                           Pharmacological Treatment  \n",
       "0  Treatment  Treat the undelying cause of iron d...  \n",
       "1  Vitamin (B12 deficiency anaemia) and other mac...  \n",
       "2  Treatment Supportive treatment B blood transfu...  \n",
       "3   \"munosuppressants A: prednisolone (PO) 1–1.5m...  \n",
       "4                                                NaN  "
      ]
     },
     "execution_count": 135,
     "metadata": {},
     "output_type": "execute_result"
    }
   ],
   "source": [
    "data.head()"
   ]
  },
  {
   "cell_type": "code",
   "execution_count": 136,
   "metadata": {},
   "outputs": [],
   "source": [
    "data.to_csv('more-cleaned-data', index=False)"
   ]
  },
  {
   "cell_type": "code",
   "execution_count": 137,
   "metadata": {},
   "outputs": [
    {
     "data": {
      "text/plain": [
       "array(['fatigue, palpitation, dizziness, glossitis, koilonychias (spoon shaped nails) and pica  ',\n",
       "       'Pallor, depression, hair loss, pins and needles, numbness in hands or feet, tremors and palsies,mildly jaundiced (lemon yellow tint), beefy tongue, darkening of palms and ataxic gait.',\n",
       "       'easy bruising/bleeding, recurrent infection;  , splenomegaly is not a feature.  Diagnostic Criteria , Pancytopenia,  , Bone marrow hypocellularity of < 30% hematopoietic cells.   ',\n",
       "       'pallor, jaundice, splenomegaly, Anaemia, Reticulocytosis, indirect hyperbilirubinemia, and haemoglobinuria',\n",
       "       nan, ' this is less common 20%.',\n",
       "       'Vary with severity but include;  , Anaemia, easy bruising/bleeding, recurrent infection;  , splenomegaly is not a feature.  Diagnostic Criteria , Pancytopenia,  , Bone marrow hypocellularity of < 30% hematopoietic cells.   ',\n",
       "       ', History of easy bruising,  , Menorrhagia , Gum bleeding , Joint bleeding in severe cases  ',\n",
       "       '\\n \\n,Transient dyspnea and tachypnea in the absence of other clinical features\\n,Pleuritic chest pain, cough, haemoptysis, pleural effusion, and pulmonary infiltrate\\n,Severe dyspnea and tachypnea and right -side heart failure\\n,Cardiovascular collapse with hypotension, syncope, and coma\\n,Several less common and nonspecific presentation including unexplained tachycardia or\\narrhythmia, resistant  cardiac failure, wheezing, cough, fever, apprehension and confusion.\\n  \\n, PT, INR, aPTT, D-d imer, CXR and CT angiography\\nPharmacological Treatment\\nTreat as Deep Vein Thrombosissection 3.3.1 \\nNote  \\n,Warfarin therapeutic INR ranges from 2 to 3 for  VTE, and 2.5 -3.5 for patients with\\nmechanical heart valves\\n,Warfarin therapy should be monitored by INR after 5 –7 days of treatment, then as needed\\nthroughout the duration of treatment.\\n,If the cause of VTE is acquired thromboembolism, treatment lasts for  3-6 months, BUT if the\\ncause is inherited thrombophilia, treatment is lifelong.\\n,Warfarin interacts with many drugs therefore precaution should be taken when administered\\nwith other drugs.\\n,If warfarin overdose/toxicity occurs, stop warfarin and give FFP 1 0-15mls/kg and vitamin K\\n5mg IV stat. Reinitiate warfarin after bleeding has stopped and INR is within therapeutic\\nrange, using the lower dosage.\\n,For VTE prophylaxis in bedridden patients, give enoxaparin 40mg SC OR Rivarox aban\\n10mg orally once a day unti l ambulation resume.\\n,Unfractionated heparin should be monitored by aPTT before and during treatment.\\n3.4 Blood Transfusion  \\nBlood components  \\nA single donation of blood can be separated into several blood components. Currently in Tanzania \\nthe following b lood components are available for transfusion packed red blood cells, Fresh Frozen \\nPlasma, single unit platelet (plasma rich) and whole blood units.  \\nI. Whole blood\\nOne unit  contains 450mls of blood. It is poor in platelets and clotting factors and can be stored\\nfor 35days at 2-6°C.\\nIndications\\n Exchange transfusion,  open heart surgery, and in  the absence  of PRBCs in\\npatients with acute blood loss and hypovolaemia.74\\tIt can be stored for 35days at 2-6 °C. One unit increases haemoglobin (Hb) level by approximately \\n1g/dl in adult, whereas in children, a dose of 10 -15mls/kg will increase the Hb by about 3g/dl. \\nIndications acute blood loss, exchange transfusion, cardiac patients with Hb level <8g/dl, chronic \\nsymptomatic anaemia with Hb <5g/dl, preoperative patients with Hb level <8g/dl, pre- radiotherapy \\npatients with Hb level <10g/dl, pre and post chemotherapy patients with Hb <9g/dl, and patients \\nadmitted to ICU with Hb <7g/dl.  \\nIII. Platelets\\nA single random donor platelet (RDP) from one  whole blood unit and contains about 5.5X109/L\\nplatelets in 50ml unit. It is stored at room temperature (20 -24°C) and has a life span of 5days.\\nDosage  50mls per 10kg i.e 5 -6 RDP units in adults. In infants < 10kg, the dose is 5mls/kg, one\\nadult therapeut ic dose increases platelet counts  by approximately 20- 40 X109/L.\\nIndications  \\n, Therapeautic thrombocytopenia of platelet counts < 50X109/L with clinical evidence of\\nbleeding.\\n, Prophylactic in patients with platelet counts of  <10 X109/L, <20X109/L with additional risk\\nfactor of bleeding, <50X109/L and planned for minor surgery, <100X109/L with multiple\\ninjuries, or microvascular bleeding, or planned for major surgery. Also, in massive\\ntransfusion to maintain a platelet count of >50X109/L.\\nContraindications  Absolutely contraindicated in heparin induced thrombotic thrombocytopenia \\n(HITT) and thrombotic thrombocytopenic purpura (TTP). Relatively contraindicated in idiopathic thrombocytopenia (ITP) unless a life -threatening bleeding is anticipated.  \\nIV. Fresh frozen plasma (FFP)\\nFFP prepared from one unit of whole blood contains about 200 -300mls of plasma. It is stored at -\\n18°C and contains all clotting factors in physiological levels except factors V and VIII which are\\npresent in slightly reduced amount. It has a l ife span of 12 months. Thaw FFP in water bath at 30 -\\n37°C and transfuse within 30 minutes after thawing. It expires 24 hours after thawing.\\nDosage  10-20ml/kg, approximately 4 -6 units for adult, this will raise a minimum of 30% of plasma \\nclotting factors.  \\nIndications haemophilia if factor concentrates not available, patients with significant coagulopathy \\neg DIC, Vitamin K deficiency and massive transfusion, thrombotic thrombocytopenic purpura (TTP) \\nor haemolytic uremic syndrome (HUS) as top up or exchange  plasma transfusion, scoline apnoea, \\nhaemorrhagic disease of the newborn.  \\n ',\n",
       "       'Clinical Diagnostic Criteria A combination of symptoms suggestive of EVD AND a possible exposure to EVD within 21 days before the onset of symptoms is suggestive of Ebola.   Symptoms , Fever , Aches and pains, such as severe headache, muscle and joint pain, and abdominal (stomach) pain , Weakness and fatigue , Gastrointestinal symptoms including diarrhea and vomiting , Abdominal (stomach) pain , Unexplained hemorrhaging, bleeding or bruising Other symptoms may include red eyes, skin rash, and hiccups (late stage) 90  An exposure may include contact with , Blood or body fluids from a person sick with or who died from EVD, , Objects contaminated with blood or body fluids of a person sick with or who died from EVD, , Infected fruit bats and non-human primates (apes or monkeys), or Semen from a man who has recovered from EVD.  Laboratory '],\n",
       "      dtype=object)"
      ]
     },
     "execution_count": 137,
     "metadata": {},
     "output_type": "execute_result"
    }
   ],
   "source": [
    "data['Clinical presentation'].unique()[:10]"
   ]
  },
  {
   "cell_type": "code",
   "execution_count": 138,
   "metadata": {},
   "outputs": [],
   "source": [
    "clinical_presentation_1 = data[data['categories'] == data['categories'].unique()[2]]\n"
   ]
  },
  {
   "cell_type": "code",
   "execution_count": 139,
   "metadata": {},
   "outputs": [
    {
     "data": {
      "text/plain": [
       "array(['Iron Deficiency Anaemia', 'Megaloblastic Anemia',\n",
       "       'Aplastic Anaemia (Bone Marrow Failure) Aplastic ',\n",
       "       'Haemolytic Anaemia', nan,\n",
       "       'It is caus ed by deficiency of clotting factor IX',\n",
       "       'Presentation as in Haemophilia A',\n",
       "       ' moderate or severe according to the levels of circulating factor VIII or IX and indicates t he expected frequency of bleeding.   \"',\n",
       "       'Von Willebrand Disease ',\n",
       "       'Acquired Bleeding Disorders/Platelet Disorders ', '\\nNote ',\n",
       "       'Plague A ', 'Bacterial Cerebro-Spinal Meningitis Bacterial ',\n",
       "       'Tick-Borne Relapsing Fever ', 'Viral Haemorrhaghic Fevers ',\n",
       "       'Measles (Rubeola) Measles ', 'Rabies Rabies ', 'A ', 'Pain C ',\n",
       "       'Zika Virus Disease Zika ', 'Uncomplicated Malaria Uncomplicated ',\n",
       "       'Severe Malaria In ', 'Adults ',\n",
       "       'Antiretroviral Therapy Patients ', 'Treatment ',\n",
       "       'Initial Management ', 'Initial ', 'Chronic Asthma ',\n",
       "       'Acute Bronchitis Acute ', 'Amoebiasis Amoebiasis ',\n",
       "       'Amoebic Liver Abscess It ', 'Acute Pancreatitis It ',\n",
       "       'Chronic Pancreatitis Chronic ', 'Anaemia ', 'Vomiting ',\n",
       "       'Puerperal Sepsis It ', 'Endometriosis It ', 'Short ',\n",
       "       'Contraceptive ', 'Permanent ', 'Infertility Infertility ',\n",
       "       'Impetigo Is ', 'Folliculitis ',\n",
       "       'Tinea Corporis (Body Ringworm) Tinea ', 'Tinea Capitis Is ',\n",
       "       'Pityriasis Versicolor It ', 'Tinea Pedis ', 'Candidiasis It ',\n",
       "       'Herpes Simplex It ', 'Chickenpox It ',\n",
       "       'Herpes Zoster (Shingles) It ', 'Atopic Eczema It ', '\\nFor ',\n",
       "       '\\nS ', '\\nA ', 'Heterotopic Ossification Heterotopic ',\n",
       "       'Tendinopathies These ', 'Plantar Fasciitis Planter Fasciitis ',\n",
       "       'Osteoporosis ', 'Pyogenic Spondylodiscitis ', 'Rickets Refers ',\n",
       "       'Physiological Bowing/Knocked Knees Is ', '\\nControl ', '\\nB ',\n",
       "       '\\nIn ', 'Cancer ', 'Endometrial Cancer This ',\n",
       "       'Skin Cancers Basal ', 'Malignant Melanoma ', 'It ',\n",
       "       'Nasopharyngeal Cancer Nasopharyngeal ', 'Laryngeal Cancer ',\n",
       "       'Hypopharyngeal Cancers Hypopharyngeal ', 'Nasal Cavity ',\n",
       "       'Oral Cavity Cancer Oral ', 'Oropharyngeal Cancer Oropharynx ',\n",
       "       'Thyroid Carcinoma Thyroid ', 'Esophageal Cancer Histologically ',\n",
       "       'Gastric Cancer Gastric ', 'Hepatocellular Carcinoma Associated ',\n",
       "       'Colon Cancer  ', 'Anal Cancer  ', 'Cancer Accounts ', 'Small ',\n",
       "       'Carcinoma ', 'Urinary Bladder Cancer Urinary ',\n",
       "       'Lymphomas World Health Organization ', 'Leukemia The ',\n",
       "       'Multiple ', 'S ', 'Max. ', 'Not ',\n",
       "       'Vitamin B1/Thiamine Deficiency (Wernicke Encephalopathy ',\n",
       "       'Vitamin B3/Nicotinic Acid Deficiency (Pellagra) Pellagra ',\n",
       "       'Vitamin B6/Pyridoxine Deficiency Pyridoxine ',\n",
       "       'Vitamin B12 (Cobalamin) Deficiency Refer Haematological Disease Conditions ',\n",
       "       'Management ', 'Management Protocol ', 'Food Poisoning Food ',\n",
       "       'Herbal Poisoning  ', 'Organo-Phosphorus ',\n",
       "       'Acetylsalicylic Acid ', 'Iron Poisoning Symptoms '], dtype=object)"
      ]
     },
     "execution_count": 139,
     "metadata": {},
     "output_type": "execute_result"
    }
   ],
   "source": [
    "data.categories.unique()"
   ]
  },
  {
   "cell_type": "code",
   "execution_count": 140,
   "metadata": {},
   "outputs": [
    {
     "data": {
      "text/html": [
       "<div>\n",
       "<style scoped>\n",
       "    .dataframe tbody tr th:only-of-type {\n",
       "        vertical-align: middle;\n",
       "    }\n",
       "\n",
       "    .dataframe tbody tr th {\n",
       "        vertical-align: top;\n",
       "    }\n",
       "\n",
       "    .dataframe thead th {\n",
       "        text-align: right;\n",
       "    }\n",
       "</style>\n",
       "<table border=\"1\" class=\"dataframe\">\n",
       "  <thead>\n",
       "    <tr style=\"text-align: right;\">\n",
       "      <th></th>\n",
       "      <th>disease</th>\n",
       "      <th>categories</th>\n",
       "      <th>Clinical presentation</th>\n",
       "      <th>Investigation</th>\n",
       "      <th>Non-Pharmacological Treatment</th>\n",
       "      <th>Pharmacological Treatment</th>\n",
       "    </tr>\n",
       "  </thead>\n",
       "  <tbody>\n",
       "    <tr>\n",
       "      <th>2</th>\n",
       "      <td>Anaemia</td>\n",
       "      <td>Aplastic Anaemia (Bone Marrow Failure) Aplastic</td>\n",
       "      <td>easy bruising/bleeding, recurrent infection;  ...</td>\n",
       "      <td>FBP, peripheral smear, reticulocyte count,  , ...</td>\n",
       "      <td>NaN</td>\n",
       "      <td>Treatment Supportive treatment B blood transfu...</td>\n",
       "    </tr>\n",
       "    <tr>\n",
       "      <th>10</th>\n",
       "      <td>Anaemia</td>\n",
       "      <td>Aplastic Anaemia (Bone Marrow Failure) Aplastic</td>\n",
       "      <td>Vary with severity but include;  , Anaemia, ea...</td>\n",
       "      <td>\\n  similar to aplastic anaemia, plus analysis...</td>\n",
       "      <td>NaN</td>\n",
       "      <td>treatment  \\nBblood transfusion f or symptomat...</td>\n",
       "    </tr>\n",
       "    <tr>\n",
       "      <th>11</th>\n",
       "      <td>X 109/L.</td>\n",
       "      <td>Aplastic Anaemia (Bone Marrow Failure) Aplastic</td>\n",
       "      <td>Vary with severity but include;  , Anaemia, ea...</td>\n",
       "      <td>\\n  similar to aplastic anaemia, plus analysis...</td>\n",
       "      <td>NaN</td>\n",
       "      <td>treatment  \\nBblood transfusion f or symptomat...</td>\n",
       "    </tr>\n",
       "    <tr>\n",
       "      <th>12</th>\n",
       "      <td>,Spontaneous</td>\n",
       "      <td>Aplastic Anaemia (Bone Marrow Failure) Aplastic</td>\n",
       "      <td>Vary with severity but include;  , Anaemia, ea...</td>\n",
       "      <td>\\n  similar to aplastic anaemia, plus analysis...</td>\n",
       "      <td>NaN</td>\n",
       "      <td>treatment  \\nBblood transfusion f or symptomat...</td>\n",
       "    </tr>\n",
       "    <tr>\n",
       "      <th>13</th>\n",
       "      <td>,Haemorrhage</td>\n",
       "      <td>Aplastic Anaemia (Bone Marrow Failure) Aplastic</td>\n",
       "      <td>Vary with severity but include;  , Anaemia, ea...</td>\n",
       "      <td>\\n  similar to aplastic anaemia, plus analysis...</td>\n",
       "      <td>NaN</td>\n",
       "      <td>treatment  \\nBblood transfusion f or symptomat...</td>\n",
       "    </tr>\n",
       "    <tr>\n",
       "      <th>14</th>\n",
       "      <td>,Haemorrhage</td>\n",
       "      <td>Aplastic Anaemia (Bone Marrow Failure) Aplastic</td>\n",
       "      <td>Vary with severity but include;  , Anaemia, ea...</td>\n",
       "      <td>\\n  similar to aplastic anaemia, plus analysis...</td>\n",
       "      <td>NaN</td>\n",
       "      <td>Treatment  \\nAvoid use of NSAIDs, instead use ...</td>\n",
       "    </tr>\n",
       "    <tr>\n",
       "      <th>15</th>\n",
       "      <td>Factor</td>\n",
       "      <td>Aplastic Anaemia (Bone Marrow Failure) Aplastic</td>\n",
       "      <td>Vary with severity but include;  , Anaemia, ea...</td>\n",
       "      <td>\\n  similar to aplastic anaemia, plus analysis...</td>\n",
       "      <td>NaN</td>\n",
       "      <td>Treatment  \\nAvoid use of NSAIDs, instead use ...</td>\n",
       "    </tr>\n",
       "    <tr>\n",
       "      <th>16</th>\n",
       "      <td>Classification</td>\n",
       "      <td>Aplastic Anaemia (Bone Marrow Failure) Aplastic</td>\n",
       "      <td>Vary with severity but include;  , Anaemia, ea...</td>\n",
       "      <td>\\n  similar to aplastic anaemia, plus analysis...</td>\n",
       "      <td>NaN</td>\n",
       "      <td>Treatment  \\nAvoid use of NSAIDs, instead use ...</td>\n",
       "    </tr>\n",
       "    <tr>\n",
       "      <th>17</th>\n",
       "      <td>Anaemia</td>\n",
       "      <td>Aplastic Anaemia (Bone Marrow Failure) Aplastic</td>\n",
       "      <td>Vary with severity but include;  , Anaemia, ea...</td>\n",
       "      <td>\\n  similar to aplastic anaemia, plus analysis...</td>\n",
       "      <td>NaN</td>\n",
       "      <td>Treatment  \\nAvoid use of NSAIDs, instead use ...</td>\n",
       "    </tr>\n",
       "  </tbody>\n",
       "</table>\n",
       "</div>"
      ],
      "text/plain": [
       "            disease                                        categories  \\\n",
       "2          Anaemia   Aplastic Anaemia (Bone Marrow Failure) Aplastic    \n",
       "10         Anaemia   Aplastic Anaemia (Bone Marrow Failure) Aplastic    \n",
       "11        X 109/L.   Aplastic Anaemia (Bone Marrow Failure) Aplastic    \n",
       "12    ,Spontaneous   Aplastic Anaemia (Bone Marrow Failure) Aplastic    \n",
       "13    ,Haemorrhage   Aplastic Anaemia (Bone Marrow Failure) Aplastic    \n",
       "14    ,Haemorrhage   Aplastic Anaemia (Bone Marrow Failure) Aplastic    \n",
       "15          Factor   Aplastic Anaemia (Bone Marrow Failure) Aplastic    \n",
       "16  Classification   Aplastic Anaemia (Bone Marrow Failure) Aplastic    \n",
       "17         Anaemia   Aplastic Anaemia (Bone Marrow Failure) Aplastic    \n",
       "\n",
       "                                Clinical presentation  \\\n",
       "2   easy bruising/bleeding, recurrent infection;  ...   \n",
       "10  Vary with severity but include;  , Anaemia, ea...   \n",
       "11  Vary with severity but include;  , Anaemia, ea...   \n",
       "12  Vary with severity but include;  , Anaemia, ea...   \n",
       "13  Vary with severity but include;  , Anaemia, ea...   \n",
       "14  Vary with severity but include;  , Anaemia, ea...   \n",
       "15  Vary with severity but include;  , Anaemia, ea...   \n",
       "16  Vary with severity but include;  , Anaemia, ea...   \n",
       "17  Vary with severity but include;  , Anaemia, ea...   \n",
       "\n",
       "                                        Investigation  \\\n",
       "2   FBP, peripheral smear, reticulocyte count,  , ...   \n",
       "10  \\n  similar to aplastic anaemia, plus analysis...   \n",
       "11  \\n  similar to aplastic anaemia, plus analysis...   \n",
       "12  \\n  similar to aplastic anaemia, plus analysis...   \n",
       "13  \\n  similar to aplastic anaemia, plus analysis...   \n",
       "14  \\n  similar to aplastic anaemia, plus analysis...   \n",
       "15  \\n  similar to aplastic anaemia, plus analysis...   \n",
       "16  \\n  similar to aplastic anaemia, plus analysis...   \n",
       "17  \\n  similar to aplastic anaemia, plus analysis...   \n",
       "\n",
       "   Non-Pharmacological Treatment  \\\n",
       "2                            NaN   \n",
       "10                           NaN   \n",
       "11                           NaN   \n",
       "12                           NaN   \n",
       "13                           NaN   \n",
       "14                           NaN   \n",
       "15                           NaN   \n",
       "16                           NaN   \n",
       "17                           NaN   \n",
       "\n",
       "                            Pharmacological Treatment  \n",
       "2   Treatment Supportive treatment B blood transfu...  \n",
       "10  treatment  \\nBblood transfusion f or symptomat...  \n",
       "11  treatment  \\nBblood transfusion f or symptomat...  \n",
       "12  treatment  \\nBblood transfusion f or symptomat...  \n",
       "13  treatment  \\nBblood transfusion f or symptomat...  \n",
       "14  Treatment  \\nAvoid use of NSAIDs, instead use ...  \n",
       "15  Treatment  \\nAvoid use of NSAIDs, instead use ...  \n",
       "16  Treatment  \\nAvoid use of NSAIDs, instead use ...  \n",
       "17  Treatment  \\nAvoid use of NSAIDs, instead use ...  "
      ]
     },
     "execution_count": 140,
     "metadata": {},
     "output_type": "execute_result"
    }
   ],
   "source": [
    "clinical_presentation_1"
   ]
  },
  {
   "cell_type": "code",
   "execution_count": 141,
   "metadata": {},
   "outputs": [
    {
     "data": {
      "text/plain": [
       "11    False\n",
       "Name: categories, dtype: bool"
      ]
     },
     "execution_count": 141,
     "metadata": {},
     "output_type": "execute_result"
    }
   ],
   "source": [
    "data.loc[data['disease'] == 'X 109/L. ', 'categories'] == 'Anaemia'"
   ]
  },
  {
   "cell_type": "code",
   "execution_count": 142,
   "metadata": {},
   "outputs": [],
   "source": [
    "\n",
    "data.loc[data['disease'] == data.categories.unique()[1], 'disease'] = clinical_presentation_1['disease'].unique()[0]"
   ]
  },
  {
   "cell_type": "code",
   "execution_count": 143,
   "metadata": {},
   "outputs": [],
   "source": [
    "\n",
    "data.loc[data['categories'] == data.categories.unique()[1], 'disease'] = clinical_presentation_1['disease'].unique()[0]"
   ]
  },
  {
   "cell_type": "code",
   "execution_count": 144,
   "metadata": {},
   "outputs": [],
   "source": [
    "\n",
    "data.loc[data['categories'] == data.categories.unique()[1], 'Non-Pharmacological Treatment'] = 'No'"
   ]
  },
  {
   "cell_type": "code",
   "execution_count": 145,
   "metadata": {},
   "outputs": [],
   "source": [
    "\n",
    "data.loc[data['categories'] == data.categories.unique()[1], 'Pharmacological Treatment'] = 'Vitamin (B12 deficiency anaemia) and other macrocytic without neurological involvement. C: hydroxycobalamine (IM) initially 1mg 3times a week for 2weeks then 1mg (IM) every 3months. Review the patient’s blood counts and clinical assessment every 3months. Pernicious Anaemia (B12 deficiency) with neurological symptoms and signs C: hydroxycobalamine (IM) initially 1mg on alternate days until no further improvement (maximum reversal or neuro-psychiatric signs and symptoms are achieved) then 1mg every 2-3months AND A: folic acid (PO) 5mg 24hourly for at least 3months this must be started simultaneously with injection vitamin B12 AND A: ferrous sulphate (PO) 200mg 8hourly for at least 3months.'"
   ]
  },
  {
   "cell_type": "code",
   "execution_count": 146,
   "metadata": {},
   "outputs": [],
   "source": [
    "\n",
    "data.loc[data['categories'] == data.categories.unique()[1], 'Clinical presentation'] = 'Pallor, depression, hair loss, pins and needles, numbness in hands or feet, tremors and palsies,mildly jaundiced (lemon yellow tint), beefy tongue, darkening of palms and ataxic gait.'"
   ]
  },
  {
   "cell_type": "code",
   "execution_count": 147,
   "metadata": {},
   "outputs": [
    {
     "data": {
      "text/plain": [
       "'easy bruising/bleeding, recurrent infection;  , splenomegaly is not a feature.  Diagnostic Criteria , Pancytopenia,  , Bone marrow hypocellularity of < 30% hematopoietic cells.   '"
      ]
     },
     "execution_count": 147,
     "metadata": {},
     "output_type": "execute_result"
    }
   ],
   "source": [
    "clinical_presentation_1['Clinical presentation'].unique()[0]"
   ]
  },
  {
   "cell_type": "code",
   "execution_count": 148,
   "metadata": {},
   "outputs": [
    {
     "data": {
      "text/plain": [
       "array(['Treatment Supportive treatment B blood transfusion (preferred irradiated, leucodepleted) when Hb<7g/dl    OR S platelet transfusion if bleeding or if platelet count is <10 X109/L. see dosage under  blood transfusion section ',\n",
       "       'treatment  \\nBblood transfusion f or symptomatic treatment \\nAND \\nS azacitidine (SC) 75mg/m2 24hourly f or 7days, repeat after every 28 days  \\n3.2    Bleeding Disorders  \\n3.2.1 Hereditary Bleeding Disorders  \\nHereditary bleeding disorders includes haemophilia A and B, Von Willebrand disease \\n3.2.1.1 Haemophilia \\nHaemophilia is an inherited, X -linked lifelong bleeding disorder which affects males almost \\nexclusively.  \\nClinica l presentation  \\n,Spontaneous muscle and joint bleeding without injury,\\n,Prolonged bleeding after injury,\\n,Epistaxis and easy brui sing.\\n,Complication includes arthropathy and disability.\\nHaemophilia A (Factor VIII deficiency)  \\nIs the most common of the hereditary clotting factor deficiencies and are caused by deficiency of \\nfactor VIII.  \\nHaemophilia B (Factor IX deficiency)  \\n,It is caus ed by deficiency of clotting factor IX\\n,Presentation as in Haemophilia A, this is less common 20%.\\nClassification  of Haemophilia  \\nHaemophilia is classified as mild, moderate or severe according to the levels of circulating factor VIII or IX and indicates t he expected frequency of bleeding.   ',\n",
       "       'treatment  \\nBblood transfusion f or symptomatic treatment \\nAND \\nS azacitidine (SC) 75mg/m2 24hourly f or 7days, repeat after every 28 days  \\n3.2    Bleeding Disorders  \\n3.2.1 Hereditary Bleeding Disorders  \\nHereditary bleeding disorders includes haemophilia A and B, Von Willebrand disease \\n3.2.1.1 Haemophilia \\nHaemophilia is an inherited, X -linked lifelong bleeding disorder which affects males almost \\nexclusively.  \\nClinica l presentation  \\n,Spontaneous muscle and joint bleeding without injury,\\n,Prolonged bleeding after injury,\\n,Epistaxis and easy brui sing.\\n,Complication includes arthropathy and disability.\\nHaemophilia A (Factor VIII deficiency)  \\nIs the most common of the hereditary clotting factor deficiencies and are caused by deficiency of \\nfactor VIII.  \\nHaemophilia B (Factor IX deficiency)  \\n,It is caus ed by deficiency of clotting factor IX\\n,Presentation as in Haemophilia A, this is less common 20%.\\nClassification  of Haemophilia  \\nHaemophilia is classified as mild, moderate or severe according to the levels of circulating factor VIII or IX and indicates t he expected frequency of bleeding.  70\\tClassificati\\non Haemophilia A  \\nFactor VIII \\nlevel  Haemophilia B  \\nFactor IX level  Clinical features \\nSevere <1% of normal  \\n≤ ',\n",
       "       'Treatment  \\nAvoid use of NSAIDs, instead use paracetamol \\nHaemophilia A (Factor VIII Deficiency) no Inhibitor  \\nDose depends on bleeding severity  \\nMinor bleed \\nS Factor VIII  (IV) 20–40IU/kg.  \\nMajor bleed  \\nS Factor VIII (IV) 50 –100 IU/kg 12hourly for 3 -5days or until bleeding stops \\nExpected response  1IU/kg = 2% rise in factor VIII level  \\nHalf life Factor VIII 8 –24hours  \\nHaemophilia B (Factor IX deficiency) no inhibitor  \\nDose depends on bleeding severity  \\nMinor bleed  \\nS Factor IX (IV) 20-50IU/kg \\nMajor bleed  \\nS Factor  IX (IV) 100IU/kg  \\nExpected response  1IU/kg= '],\n",
       "      dtype=object)"
      ]
     },
     "execution_count": 148,
     "metadata": {},
     "output_type": "execute_result"
    }
   ],
   "source": [
    "clinical_presentation_1['Pharmacological Treatment'].unique()"
   ]
  },
  {
   "cell_type": "code",
   "execution_count": 149,
   "metadata": {},
   "outputs": [
    {
     "data": {
      "text/plain": [
       "'FBP, peripheral smear, reticulocyte count,  , Viral screening (HIV, Hepatitis B and C),  , Bone marrow aspiration and trephine biopsy.  Pharmacological '"
      ]
     },
     "execution_count": 149,
     "metadata": {},
     "output_type": "execute_result"
    }
   ],
   "source": [
    "clinical_presentation_1.Investigation.unique()[0]"
   ]
  },
  {
   "cell_type": "code",
   "execution_count": 150,
   "metadata": {},
   "outputs": [],
   "source": [
    "\n",
    "data.loc[data['categories'] == data['categories'].unique()[1], 'Investigation'] = clinical_presentation_1.Investigation.unique()[0]"
   ]
  },
  {
   "cell_type": "code",
   "execution_count": 151,
   "metadata": {},
   "outputs": [],
   "source": [
    "\n",
    "data.loc[data['categories'] == data['categories'].unique()[1], 'Investigation'] = clinical_presentation_1.Investigation.unique()[0]"
   ]
  },
  {
   "cell_type": "code",
   "execution_count": null,
   "metadata": {},
   "outputs": [],
   "source": []
  },
  {
   "cell_type": "code",
   "execution_count": 152,
   "metadata": {},
   "outputs": [
    {
     "data": {
      "text/plain": [
       "(1398, 6)"
      ]
     },
     "execution_count": 152,
     "metadata": {},
     "output_type": "execute_result"
    }
   ],
   "source": [
    "data.shape"
   ]
  },
  {
   "cell_type": "markdown",
   "metadata": {},
   "source": [
    "dataset = {\"desease\":['Iron Deficiency Anaemia'],\n",
    " 'causes':['lack of iron in the body mainly due to nutritional deficiency, chronic blood loss malabsorption and hookworm infestations'], 'gender':['ALL'], 'age':['ALL'], 'most group':['pregnancy']}"
   ]
  },
  {
   "cell_type": "code",
   "execution_count": 153,
   "metadata": {},
   "outputs": [],
   "source": [
    "data.to_csv('more-Extracted-data.csv', index=False)"
   ]
  },
  {
   "cell_type": "code",
   "execution_count": 154,
   "metadata": {},
   "outputs": [],
   "source": [
    "data.to_csv('Extracted-data.csv', index=False)"
   ]
  },
  {
   "cell_type": "code",
   "execution_count": null,
   "metadata": {},
   "outputs": [],
   "source": []
  }
 ],
 "metadata": {
  "kernelspec": {
   "display_name": "base",
   "language": "python",
   "name": "python3"
  },
  "language_info": {
   "codemirror_mode": {
    "name": "ipython",
    "version": 3
   },
   "file_extension": ".py",
   "mimetype": "text/x-python",
   "name": "python",
   "nbconvert_exporter": "python",
   "pygments_lexer": "ipython3",
   "version": "3.7.6"
  }
 },
 "nbformat": 4,
 "nbformat_minor": 2
}
