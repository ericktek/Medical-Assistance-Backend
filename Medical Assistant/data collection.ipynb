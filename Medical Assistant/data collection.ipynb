{
 "cells": [
  {
   "cell_type": "code",
   "execution_count": 12,
   "metadata": {},
   "outputs": [
    {
     "name": "stdout",
     "output_type": "stream",
     "text": [
      "Requirement already satisfied: PyPDF2 in /home/justini/anaconda3/lib/python3.7/site-packages (3.0.1)\n",
      "Requirement already satisfied: typing_extensions>=3.10.0.0 in /home/justini/anaconda3/lib/python3.7/site-packages (from PyPDF2) (4.7.1)\n",
      "\u001b[33mDEPRECATION: pyodbc 4.0.0-unsupported has a non-standard version number. pip 24.0 will enforce this behaviour change. A possible replacement is to upgrade to a newer version of pyodbc or contact the author to suggest that they release a version with a conforming version number. Discussion can be found at https://github.com/pypa/pip/issues/12063\u001b[0m\u001b[33m\n",
      "\u001b[0mNote: you may need to restart the kernel to use updated packages.\n"
     ]
    }
   ],
   "source": [
    "pip install PyPDF2"
   ]
  },
  {
   "cell_type": "code",
   "execution_count": 13,
   "metadata": {},
   "outputs": [],
   "source": [
    "import pandas as pd\n",
    "import numpy as np\n",
    "import nltk\n",
    "import re\n",
    "import random\n",
    "import string\n",
    "import warnings\n",
    "warnings.simplefilter(\"ignore\")\n",
    "from PyPDF2 import PdfReader"
   ]
  },
  {
   "cell_type": "code",
   "execution_count": 14,
   "metadata": {},
   "outputs": [],
   "source": [
    "pth = r\"/home/justini/Documents/Projects/MEDIKEA PROJECTS/Medikea/Medical Assistant/STG _ NEMLIT 2021 (1)-1.pdf\""
   ]
  },
  {
   "cell_type": "code",
   "execution_count": 15,
   "metadata": {},
   "outputs": [],
   "source": [
    "raw_doc1 = ''"
   ]
  },
  {
   "cell_type": "code",
   "execution_count": 16,
   "metadata": {},
   "outputs": [],
   "source": [
    "\n",
    "pdf = PdfReader(pth)\n",
    "for index, page in enumerate(pdf.pages):\n",
    "    page = pdf.pages[index]\n",
    "    raw_doc1 += page.extract_text()"
   ]
  },
  {
   "cell_type": "code",
   "execution_count": 17,
   "metadata": {},
   "outputs": [],
   "source": [
    "with open('Dataset/full-doc.txt', 'w') as f:\n",
    "    f.write(raw_doc1)\n",
    "    f.close()"
   ]
  },
  {
   "cell_type": "code",
   "execution_count": 18,
   "metadata": {},
   "outputs": [
    {
     "ename": "NameError",
     "evalue": "name 'pg' is not defined",
     "output_type": "error",
     "traceback": [
      "\u001b[0;31m---------------------------------------------------------------------------\u001b[0m",
      "\u001b[0;31mNameError\u001b[0m                                 Traceback (most recent call last)",
      "\u001b[0;32m/tmp/ipykernel_10787/98350671.py\u001b[0m in \u001b[0;36m<module>\u001b[0;34m\u001b[0m\n\u001b[0;32m----> 1\u001b[0;31m \u001b[0mpg\u001b[0m\u001b[0;34m\u001b[0m\u001b[0;34m\u001b[0m\u001b[0m\n\u001b[0m",
      "\u001b[0;31mNameError\u001b[0m: name 'pg' is not defined"
     ]
    }
   ],
   "source": [
    "pg"
   ]
  },
  {
   "cell_type": "code",
   "execution_count": null,
   "metadata": {},
   "outputs": [
    {
     "ename": "",
     "evalue": "",
     "output_type": "error",
     "traceback": [
      "\u001b[1;31mRunning cells with '/bin/python3' requires the ipykernel package.\n",
      "\u001b[1;31mRun the following command to install 'ipykernel' into the Python environment. \n",
      "\u001b[1;31mCommand: '/bin/python3 -m pip install ipykernel -U --user --force-reinstall'"
     ]
    }
   ],
   "source": [
    "def deseaese_checking(text):\n",
    "    pattern = re.compile(r'^\\d+\\.\\d+$')\n",
    "\n",
    "    match = pattern.match(text)\n",
    "\n",
    "    return bool(match)\n",
    "\n",
    "def category_checking(text):\n",
    "    pattern = re.compile(r'^\\d+\\.\\d.\\d+$')\n",
    "\n",
    "    match = pattern.match(text)\n",
    "\n",
    "    return bool(match)"
   ]
  },
  {
   "cell_type": "code",
   "execution_count": null,
   "metadata": {},
   "outputs": [
    {
     "ename": "",
     "evalue": "",
     "output_type": "error",
     "traceback": [
      "\u001b[1;31mRunning cells with '/bin/python3' requires the ipykernel package.\n",
      "\u001b[1;31mRun the following command to install 'ipykernel' into the Python environment. \n",
      "\u001b[1;31mCommand: '/bin/python3 -m pip install ipykernel -U --user --force-reinstall'"
     ]
    }
   ],
   "source": [
    "dataset = {'heading': [], 'disease':[], 'categories':[], 'Clinical presentation':[], 'Investigations':[], 'Non-Pharmacological Treatment':[], 'Pharmacological Treatment':[]}"
   ]
  },
  {
   "cell_type": "code",
   "execution_count": null,
   "metadata": {},
   "outputs": [
    {
     "ename": "",
     "evalue": "",
     "output_type": "error",
     "traceback": [
      "\u001b[1;31mRunning cells with '/bin/python3' requires the ipykernel package.\n",
      "\u001b[1;31mRun the following command to install 'ipykernel' into the Python environment. \n",
      "\u001b[1;31mCommand: '/bin/python3 -m pip install ipykernel -U --user --force-reinstall'"
     ]
    }
   ],
   "source": [
    "def saving_data_dictionary(heading, diesease, category, presentation, investigation, phTreatment, nonPhTreatment):\n",
    "    if heading and diesease and category and presentation and investigation:\n",
    "        dataset['heading'].append(heading)\n",
    "        dataset['disease'].append(diesease)\n",
    "        dataset['categories'].append(category)\n",
    "        dataset['Clinical presentation'].append(presentation)\n",
    "        dataset['Investigations'].append(investigation)\n",
    "        dataset['Non-Pharmacological Treatment'].append(nonPhTreatment)\n",
    "        dataset['Pharmacological Treatment'].append(phTreatment)\n"
   ]
  },
  {
   "cell_type": "code",
   "execution_count": null,
   "metadata": {},
   "outputs": [
    {
     "ename": "",
     "evalue": "",
     "output_type": "error",
     "traceback": [
      "\u001b[1;31mRunning cells with '/bin/python3' requires the ipykernel package.\n",
      "\u001b[1;31mRun the following command to install 'ipykernel' into the Python environment. \n",
      "\u001b[1;31mCommand: '/bin/python3 -m pip install ipykernel -U --user --force-reinstall'"
     ]
    }
   ],
   "source": [
    "text = ''\n",
    "chapter_text = ''\n",
    "disease_text = ''\n",
    "category_text = ''\n",
    "Investigations_text = ''\n",
    "clinical_presentation_text = ''\n",
    "Pharmacological_text = ''\n",
    "non_Pharmacological_text = ''\n",
    "status_chapter = False\n",
    "status_disease = False\n",
    "category_status = False\n",
    "clinical_presentation_status= False\n",
    "Investigations_status = False\n",
    "Pharmacological_status = False\n",
    "non_Pharmacological_status = False\n",
    "heading = ''\n",
    "diesease =  ''\n",
    "category = ''\n",
    "investigation = ''\n",
    "presentation = ''\n",
    "phTreatment = ''\n",
    "nonPhTreatment = ''\n",
    "\n",
    "pdf = PdfReader(pth)\n",
    "for index, page in enumerate(pdf.pages):\n",
    "    if index >= 96:\n",
    "        page = pdf.pages[index]\n",
    "        raw_doc1 += page.extract_text()\n",
    "        raw_doc2 = raw_doc1.replace('\\t\\t', '')\n",
    "        \n",
    "        for index, data in enumerate(raw_doc2.split(' ')):\n",
    "            capitalized_word = data.istitle()\n",
    "            extracted_alphabets = ''\n",
    "            try:\n",
    "                extracted_alphabets = re.sub(\"[^a-zA-Z]\", \"\", data)\n",
    "                if extracted_alphabets == 'CHAPTER':\n",
    "                    status_chapter = True\n",
    "                    text = 'current chapter'\n",
    "                    chapter_text = ''\n",
    "                    saving_data_dictionary(heading, diesease, category, presentation, investigation, phTreatment, nonPhTreatment)\n",
    "                    \n",
    "                    if Pharmacological_text !='' and Pharmacological_status == True:\n",
    "                        Pharmacological_status =False\n",
    "            except:\n",
    "                pass\n",
    "            \n",
    "            if deseaese_checking(data) and text == 'current chapter':\n",
    "                status_chapter = False\n",
    "                status_disease = True\n",
    "                disease_text = ''\n",
    "                heading = chapter_text\n",
    "                saving_data_dictionary(heading, diesease, category, presentation, investigation, phTreatment, nonPhTreatment)\n",
    "                    \n",
    "                if Pharmacological_text !='' and Pharmacological_status == True:\n",
    "                    phTreatment = Pharmacological_text\n",
    "                    Pharmacological_status =False\n",
    "            \n",
    "            if status_disease:\n",
    "                phTreatment = Pharmacological_text\n",
    "                nonPhTreatment = non_Pharmacological_text\n",
    "                saving_data_dictionary(heading, diesease, category, presentation, investigation, phTreatment, nonPhTreatment)\n",
    "                    \n",
    "                if capitalized_word:\n",
    "                    disease_text += data+ ' '\n",
    "                else:\n",
    "                    if disease_text !='':\n",
    "                        diesease = disease_text\n",
    "                        status_disease = False\n",
    "               \n",
    "            if category_checking(data):\n",
    "                category_status = True\n",
    "                category_text = ''\n",
    "                \n",
    "            if category_status:\n",
    "                phTreatment = Pharmacological_text\n",
    "                nonPhTreatment = non_Pharmacological_text\n",
    "                saving_data_dictionary(heading, diesease, category, presentation, investigation, phTreatment, nonPhTreatment)\n",
    "                    \n",
    "                if capitalized_word:\n",
    "                    category_text += data+ ' '\n",
    "                else:\n",
    "                    if category_text !='':\n",
    "                        category_on = True\n",
    "                        category = category_text\n",
    "                        category_status = False\n",
    "                        \n",
    "            if extracted_alphabets =='Clinical':\n",
    "                clinical_presentation_text = ''\n",
    "                clinical_presentation_status = True\n",
    "            \n",
    "            if extracted_alphabets =='Investigations':\n",
    "                clinical_presentation_status = False\n",
    "                Investigations_text = ''\n",
    "                Investigations_status =True\n",
    "                presentation = clinical_presentation_text\n",
    "                \n",
    "            if status_chapter:\n",
    "                chapter_text +=data +' '\n",
    "            \n",
    "            if clinical_presentation_status:\n",
    "                clinical_presentation_text += data+ ' '\n",
    "            \n",
    "            if Investigations_status:\n",
    "                try:\n",
    "                    Investigations_text += data+ ' '\n",
    "                except:\n",
    "                    pass\n",
    "                \n",
    "            if non_Pharmacological_status:\n",
    "                try:\n",
    "                    non_Pharmacological_text += data+ ' '\n",
    "                except:\n",
    "                    pass\n",
    "                \n",
    "            if Pharmacological_status:\n",
    "                try:\n",
    "                    Pharmacological_text += data+ ' '\n",
    "                except:\n",
    "                    pass\n",
    "                \n",
    "            if extracted_alphabets == 'Pharmacological':\n",
    "                Investigations_status = False\n",
    "                Pharmacological_status = True\n",
    "                Pharmacological_text = ''\n",
    "                investigation = Investigations_text\n",
    "                \n",
    "            if extracted_alphabets == 'Non-Pharmacological':\n",
    "                non_Pharmacological_text = ''\n",
    "                non_Pharmacological_status =True"
   ]
  },
  {
   "cell_type": "code",
   "execution_count": null,
   "metadata": {},
   "outputs": [
    {
     "ename": "",
     "evalue": "",
     "output_type": "error",
     "traceback": [
      "\u001b[1;31mRunning cells with '/bin/python3' requires the ipykernel package.\n",
      "\u001b[1;31mRun the following command to install 'ipykernel' into the Python environment. \n",
      "\u001b[1;31mCommand: '/bin/python3 -m pip install ipykernel -U --user --force-reinstall'"
     ]
    }
   ],
   "source": [
    "df = pd.DataFrame(dataset)"
   ]
  },
  {
   "cell_type": "code",
   "execution_count": null,
   "metadata": {},
   "outputs": [
    {
     "ename": "",
     "evalue": "",
     "output_type": "error",
     "traceback": [
      "\u001b[1;31mRunning cells with '/bin/python3' requires the ipykernel package.\n",
      "\u001b[1;31mRun the following command to install 'ipykernel' into the Python environment. \n",
      "\u001b[1;31mCommand: '/bin/python3 -m pip install ipykernel -U --user --force-reinstall'"
     ]
    }
   ],
   "source": [
    "df.dropna(inplace=True)"
   ]
  },
  {
   "cell_type": "code",
   "execution_count": null,
   "metadata": {},
   "outputs": [
    {
     "ename": "",
     "evalue": "",
     "output_type": "error",
     "traceback": [
      "\u001b[1;31mRunning cells with '/bin/python3' requires the ipykernel package.\n",
      "\u001b[1;31mRun the following command to install 'ipykernel' into the Python environment. \n",
      "\u001b[1;31mCommand: '/bin/python3 -m pip install ipykernel -U --user --force-reinstall'"
     ]
    }
   ],
   "source": [
    "df.drop_duplicates(inplace=True)"
   ]
  },
  {
   "cell_type": "code",
   "execution_count": null,
   "metadata": {},
   "outputs": [
    {
     "ename": "",
     "evalue": "",
     "output_type": "error",
     "traceback": [
      "\u001b[1;31mRunning cells with '/bin/python3' requires the ipykernel package.\n",
      "\u001b[1;31mRun the following command to install 'ipykernel' into the Python environment. \n",
      "\u001b[1;31mCommand: '/bin/python3 -m pip install ipykernel -U --user --force-reinstall'"
     ]
    }
   ],
   "source": [
    "df"
   ]
  },
  {
   "cell_type": "code",
   "execution_count": null,
   "metadata": {},
   "outputs": [
    {
     "ename": "",
     "evalue": "",
     "output_type": "error",
     "traceback": [
      "\u001b[1;31mRunning cells with '/bin/python3' requires the ipykernel package.\n",
      "\u001b[1;31mRun the following command to install 'ipykernel' into the Python environment. \n",
      "\u001b[1;31mCommand: '/bin/python3 -m pip install ipykernel -U --user --force-reinstall'"
     ]
    }
   ],
   "source": [
    "df.to_csv('more-Extracted-data.csv', index=False)"
   ]
  }
 ],
 "metadata": {
  "kernelspec": {
   "display_name": "base",
   "language": "python",
   "name": "python3"
  },
  "language_info": {
   "codemirror_mode": {
    "name": "ipython",
    "version": 3
   },
   "file_extension": ".py",
   "mimetype": "text/x-python",
   "name": "python",
   "nbconvert_exporter": "python",
   "pygments_lexer": "ipython3",
   "version": "3.7.6"
  }
 },
 "nbformat": 4,
 "nbformat_minor": 2
}
